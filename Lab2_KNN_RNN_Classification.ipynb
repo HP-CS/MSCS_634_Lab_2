{
 "cells": [
  {
   "cell_type": "markdown",
   "id": "cafaca16",
   "metadata": {},
   "source": [
    "# Lab 2: Classification Using KNN and RNN Algorithms\n",
    "**Name:** Heehyung Park  \n",
    "**Course Title:** MSCS 634  \n",
    "**Assignment:** Lab 2"
   ]
  },
  {
   "cell_type": "code",
   "execution_count": null,
   "id": "6f0feef4",
   "metadata": {},
   "outputs": [],
   "source": [
    "from sklearn.datasets import load_wine\n",
    "from sklearn.model_selection import train_test_split\n",
    "from sklearn.neighbors import KNeighborsClassifier, RadiusNeighborsClassifier\n",
    "from sklearn.metrics import accuracy_score\n",
    "import matplotlib.pyplot as plt\n",
    "import pandas as pd"
   ]
  },
  {
   "cell_type": "code",
   "execution_count": null,
   "id": "350b9745",
   "metadata": {},
   "outputs": [],
   "source": [
    "# Load dataset\n",
    "wine = load_wine()\n",
    "X = wine.data\n",
    "y = wine.target\n",
    "X_train, X_test, y_train, y_test = train_test_split(X, y, test_size=0.2, random_state=42)"
   ]
  },
  {
   "cell_type": "code",
   "execution_count": null,
   "id": "b6ace963",
   "metadata": {},
   "outputs": [],
   "source": [
    "# KNN Accuracy\n",
    "k_values = [1, 5, 11, 15, 21]\n",
    "knn_accuracies = []\n",
    "for k in k_values:\n",
    "    knn = KNeighborsClassifier(n_neighbors=k)\n",
    "    knn.fit(X_train, y_train)\n",
    "    y_pred = knn.predict(X_test)\n",
    "    acc = accuracy_score(y_test, y_pred)\n",
    "    knn_accuracies.append(acc)\n",
    "knn_accuracies"
   ]
  },
  {
   "cell_type": "code",
   "execution_count": null,
   "id": "9e069cd0",
   "metadata": {},
   "outputs": [],
   "source": [
    "# RNN Accuracy\n",
    "radii = [350, 400, 450, 500, 550, 600]\n",
    "rnn_accuracies = []\n",
    "for r in radii:\n",
    "    rnn = RadiusNeighborsClassifier(radius=r)\n",
    "    rnn.fit(X_train, y_train)\n",
    "    y_pred = rnn.predict(X_test)\n",
    "    acc = accuracy_score(y_test, y_pred)\n",
    "    rnn_accuracies.append(acc)\n",
    "rnn_accuracies"
   ]
  },
  {
   "cell_type": "code",
   "execution_count": null,
   "id": "9c3afc69",
   "metadata": {},
   "outputs": [],
   "source": [
    "# Plot KNN Accuracy\n",
    "plt.plot(k_values, knn_accuracies, marker='o')\n",
    "plt.title('KNN Accuracy for Different k Values')\n",
    "plt.xlabel('k')\n",
    "plt.ylabel('Accuracy')\n",
    "plt.grid(True)\n",
    "plt.show()"
   ]
  },
  {
   "cell_type": "code",
   "execution_count": null,
   "id": "13053b58",
   "metadata": {},
   "outputs": [],
   "source": [
    "# Plot RNN Accuracy\n",
    "plt.plot(radii, rnn_accuracies, marker='o', color='orange')\n",
    "plt.title('RNN Accuracy for Different Radius Values')\n",
    "plt.xlabel('Radius')\n",
    "plt.ylabel('Accuracy')\n",
    "plt.grid(True)\n",
    "plt.show()"
   ]
  }
 ],
 "metadata": {},
 "nbformat": 4,
 "nbformat_minor": 5
}
